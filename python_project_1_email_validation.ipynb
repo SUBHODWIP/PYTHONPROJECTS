{
  "nbformat": 4,
  "nbformat_minor": 0,
  "metadata": {
    "colab": {
      "provenance": [],
      "collapsed_sections": [],
      "authorship_tag": "ABX9TyMQIgiTcKW/tCaSMLlBqAXi",
      "include_colab_link": true
    },
    "kernelspec": {
      "name": "python3",
      "display_name": "Python 3"
    },
    "language_info": {
      "name": "python"
    }
  },
  "cells": [
    {
      "cell_type": "markdown",
      "metadata": {
        "id": "view-in-github",
        "colab_type": "text"
      },
      "source": [
        "<a href=\"https://colab.research.google.com/github/SUBHODWIP/PYTHONPROJECTS/blob/main/python_project_1_email_validation.ipynb\" target=\"_parent\"><img src=\"https://colab.research.google.com/assets/colab-badge.svg\" alt=\"Open In Colab\"/></a>"
      ]
    },
    {
      "cell_type": "markdown",
      "source": [
        "USING PYTHON I WANT TO CHECK EMAIL VALIDATION."
      ],
      "metadata": {
        "id": "cfzRUMpd20ne"
      }
    },
    {
      "cell_type": "code",
      "execution_count": 3,
      "metadata": {
        "id": "nip-GeBb6zpd",
        "colab": {
          "base_uri": "https://localhost:8080/"
        },
        "outputId": "fee269e4-1540-4f8a-a420-43dd4e5fba2b"
      },
      "outputs": [
        {
          "output_type": "stream",
          "name": "stdout",
          "text": [
            "enter your email: subho@@gmail.com\n",
            "wrong email:you are not providing the required no of @ in the mail id\n"
          ]
        }
      ],
      "source": [
        "email=input(\"enter your email: \")\n",
        "a,b,c=0,0,0\n",
        "if len(email)>=6:\n",
        "    if email[0].isalpha():\n",
        "        if (\"@\" in email) and (email.count(\"@\")==1):\n",
        "            if (email[-4]==\".\") ^ (email[-3]==\".\"):\n",
        "                for i in email:\n",
        "                    if i==i.isspace():  ##space is given in between\n",
        "                        a=1\n",
        "                    elif i==i.isalpha(): \n",
        "                        if i==i.upper(): ##use of upper case in between email\n",
        "                            b=1\n",
        "                    elif i==i.isdigit():\n",
        "                        continue\n",
        "                    elif i==\"_\" or i==\" \" or i==\"@\": ##if anything else than this comes it showror \n",
        "                        continue\n",
        "                    else:\n",
        "                        d=1\n",
        "                if a==1 or b==1 or c==1:\n",
        "                    print(\"wrong email\")\n",
        "            else:\n",
        "                print('wrong email: as \".\" is not given properly')\n",
        "        else:\n",
        "            print('wrong email:you are not providing the required no of @ in the mail id')             \n",
        "    else:\n",
        "        print('wrong email: as the first letter should alphabetes')\n",
        "else:\n",
        "    print('wrong email:as the email is very too short in length')\n",
        "        "
      ]
    }
  ]
}